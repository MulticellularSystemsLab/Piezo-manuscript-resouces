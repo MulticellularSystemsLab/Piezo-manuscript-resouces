{
 "cells": [
  {
   "cell_type": "code",
   "execution_count": 3,
   "metadata": {},
   "outputs": [
    {
     "name": "stderr",
     "output_type": "stream",
     "text": [
      "No handles with labels found to put in legend.\n"
     ]
    },
    {
     "data": {
      "text/plain": [
       "<matplotlib.legend.Legend at 0x5af54b38>"
      ]
     },
     "execution_count": 3,
     "metadata": {},
     "output_type": "execute_result"
    },
    {
     "data": {
      "image/png": "[encoded data removed]",
      "text/plain": [
       "<Figure size 216x144 with 1 Axes>"
      ]
     },
     "metadata": {},
     "output_type": "display_data"
    }
   ],
   "source": [
    "import pandas as pd\n",
    "import numpy as np\n",
    "import matplotlib.pyplot as plt\n",
    "\n",
    "df_c = pd.read_excel('input_data/global_neighbohood.xlsx',sheet_name='control_g')\n",
    "data_c = df_c.values\n",
    "mean_data_c = np.mean(data_c, axis=0)\n",
    "std_data_c = np.std(data_c, axis=0)\n",
    "df_r = pd.read_excel('input_data/global_neighbohood.xlsx',sheet_name='rnai_g')\n",
    "data_r = df_r.values\n",
    "mean_data_r = np.mean(data_r, axis=0)\n",
    "std_data_r = np.std(data_r, axis=0)\n",
    "df_o = pd.read_excel('input_data/global_neighbohood.xlsx',sheet_name='oe_g')\n",
    "data_o = df_o.values\n",
    "mean_data_o = np.mean(data_o, axis=0)\n",
    "std_data_o = np.std(data_o, axis=0)\n",
    "ind = np.arange(len(mean_data_c))\n",
    "width = 0.2\n",
    "width_bar = 0.2\n",
    "fig, ax = plt.subplots(figsize=(3, 2))\n",
    "rects1 = ax.bar(ind - width, mean_data_r, width_bar, yerr=std_data_r,color='tab:red')\n",
    "rects2 = ax.bar(ind, mean_data_c, width_bar, yerr=std_data_c,color='tab:blue')\n",
    "rects3 = ax.bar(ind + width, mean_data_o, width_bar, yerr=std_data_o,color='tab:green')\n",
    "ax.set_ylabel('Frequency', fontsize=11)\n",
    "ax.set_xlabel('Polygon class',fontsize=11)\n",
    "ax.spines['top'].set_visible(False)\n",
    "ax.spines['right'].set_visible(False)\n",
    "ax.grid(which='minor', axis='both', linestyle=':', linewidth=0.5, color='gray')\n",
    "ax.set_xticks(ind)\n",
    "ax.set_xticklabels(('4', '5', '6', '7', '8'), fontsize=11)\n",
    "#plt.savefig('Figure5B.svg', format='svg')\n",
    "ax.legend()"
   ]
  },
  {
   "cell_type": "code",
   "execution_count": 4,
   "metadata": {},
   "outputs": [
    {
     "name": "stdout",
     "output_type": "stream",
     "text": [
      "    Comparison  Mean Difference  t-statistic   p-value  Effect Size  \\\n",
      "0  RNAin4-OEn4             0.05     4.819638  0.001322         1.77   \n",
      "\n",
      "   95% CI Lower  95% CI Upper  \n",
      "0          0.03          0.07  \n"
     ]
    }
   ],
   "source": [
    "import pandas as pd\n",
    "from scipy import stats\n",
    "import numpy as np\n",
    "\n",
    "table_data = {'Comparison': [], 'Mean Difference': [], 't-statistic': [], 'p-value': [], 'Effect Size': [], '95% CI Lower': [], '95% CI Upper': []}\n",
    "\n",
    "a = data=df_c[[\"n4\"]].values\n",
    "a = a[~np.isnan(a)].tolist()\n",
    "b = data=df_r[[\"n4\"]].values\n",
    "b = b[~np.isnan(b)].tolist()\n",
    "c = data=df_o[[\"n4\"]].values\n",
    "c = c[~np.isnan(c)].tolist()\n",
    "\n",
    "comparisons = [('RNAin4-OEn4', b, c)]\n",
    "\n",
    "for comparison, group1, group2 in comparisons:\n",
    "    t_stat, p_value = stats.ttest_ind(group1, group2)\n",
    "    mean_diff = round(abs(np.mean(group1) - np.mean(group2)), 2)\n",
    "    effect_size = round(mean_diff / np.std(group1 + group2), 2)\n",
    "    ci = stats.t.interval(0.95, len(group1) + len(group2) - 2, loc=np.mean(group1) - np.mean(group2), scale=stats.sem(group1 + group2))\n",
    "    table_data['Comparison'].append(comparison)\n",
    "    table_data['Mean Difference'].append(mean_diff)\n",
    "    table_data['t-statistic'].append(t_stat)\n",
    "    table_data['p-value'].append(p_value)\n",
    "    table_data['Effect Size'].append(effect_size)\n",
    "    table_data['95% CI Lower'].append(round(ci[0], 2))\n",
    "    table_data['95% CI Upper'].append(round(ci[1], 2))\n",
    "\n",
    "result_table = pd.DataFrame(table_data)\n",
    "print(result_table)"
   ]
  }
 ],
 "metadata": {
  "kernelspec": {
   "display_name": "Python 3",
   "language": "python",
   "name": "python3"
  },
  "language_info": {
   "codemirror_mode": {
    "name": "ipython",
    "version": 3
   },
   "file_extension": ".py",
   "mimetype": "text/x-python",
   "name": "python",
   "nbconvert_exporter": "python",
   "pygments_lexer": "ipython3",
   "version": "3.6.5"
  }
 },
 "nbformat": 4,
 "nbformat_minor": 2
}
