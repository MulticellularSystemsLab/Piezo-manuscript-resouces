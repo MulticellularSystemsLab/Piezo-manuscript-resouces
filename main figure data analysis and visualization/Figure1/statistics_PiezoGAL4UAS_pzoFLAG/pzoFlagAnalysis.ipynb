{
 "cells": [
  {
   "cell_type": "code",
   "execution_count": 3,
   "metadata": {},
   "outputs": [
    {
     "name": "stderr",
     "output_type": "stream",
     "text": [
      "C:\\Users\\Nilay\\Anaconda3\\lib\\site-packages\\numpy\\core\\_asarray.py:83: VisibleDeprecationWarning: Creating an ndarray from ragged nested sequences (which is a list-or-tuple of lists-or-tuples-or ndarrays with different lengths or shapes) is deprecated. If you meant to do this, you must specify 'dtype=object' when creating the ndarray\n",
      "  return array(a, dtype, copy=False, order=order)\n",
      "C:\\Users\\Nilay\\Anaconda3\\lib\\site-packages\\numpy\\core\\_asarray.py:83: VisibleDeprecationWarning: Creating an ndarray from ragged nested sequences (which is a list-or-tuple of lists-or-tuples-or ndarrays with different lengths or shapes) is deprecated. If you meant to do this, you must specify 'dtype=object' when creating the ndarray\n",
      "  return array(a, dtype, copy=False, order=order)\n"
     ]
    },
    {
     "data": {
      "text/plain": [
       "Text(0.5,1,'Male')"
      ]
     },
     "execution_count": 3,
     "metadata": {},
     "output_type": "execute_result"
    },
    {
     "data": {
      "image/png": "[encoded data removed]",
      "text/plain": [
       "<Figure size 108x144 with 1 Axes>"
      ]
     },
     "metadata": {},
     "output_type": "display_data"
    }
   ],
   "source": [
    "import pandas as pd\n",
    "import matplotlib.pyplot as plt\n",
    "import pandas as pd\n",
    "import seaborn as sns\n",
    "import matplotlib.pyplot as plt\n",
    "import matplotlib.colors as mcolors\n",
    "import numpy as np\n",
    "import scipy.stats as st\n",
    "\n",
    "BG_WHITE = \"#fbf9f4\"\n",
    "GREY_LIGHT = \"#b4aea9\"\n",
    "GREY50 = \"#7F7F7F\"\n",
    "BLUE_DARK = \"#1B2838\"\n",
    "BLUE = \"#2a475e\"\n",
    "BLACK = \"#282724\"\n",
    "GREY_DARK = \"#747473\"\n",
    "RED_DARK = \"#850e00\"\n",
    "\n",
    "### Change sheet name to female for female statistics\n",
    "df = pd.read_excel('data.xlsx',sheet_name = 'male')\n",
    "a = data=df[[\"control\"]].values\n",
    "a = a[~np.isnan(a)].tolist()\n",
    "b = data=df[[\"pzo\"]].values\n",
    "b = b[~np.isnan(b)].tolist()\n",
    "\n",
    "POSITIONS = [0,1]\n",
    "x_label = (r'$MS1096>$' '\\n' r'$Gal4$',\n",
    "           r'$MS1096>$' '\\n' r'$Piezo.FLAG$'\n",
    "          )\n",
    "\n",
    "fig, ax = plt.subplots(figsize=(1.5, 2))\n",
    "plt.rcParams.update({'font.size': 11})\n",
    "y_data = [a, b]\n",
    "\n",
    "violins = ax.violinplot(\n",
    "    y_data, \n",
    "    positions=POSITIONS,\n",
    "    widths=0.45,\n",
    "    bw_method=\"silverman\",\n",
    "    showmeans=False, \n",
    "    showmedians=False,\n",
    "    showextrema=False\n",
    ")\n",
    "\n",
    "for pc in violins[\"bodies\"]:\n",
    "    pc.set_facecolor(\"none\")\n",
    "    pc.set_edgecolor(BLACK)\n",
    "    pc.set_linewidth(1.4)\n",
    "    pc.set_alpha(1)\n",
    "    \n",
    "medianprops = dict(\n",
    "    linewidth=4, \n",
    "    color=GREY_DARK,\n",
    "    solid_capstyle=\"butt\"\n",
    ")\n",
    "boxprops = dict(\n",
    "    linewidth=2, \n",
    "    color=GREY_DARK\n",
    ")\n",
    "\n",
    "ax.boxplot(\n",
    "    y_data,\n",
    "    positions=POSITIONS, \n",
    "    showfliers = False, \n",
    "    showcaps = False,   \n",
    "    medianprops = medianprops,\n",
    "    whiskerprops = boxprops,\n",
    "    boxprops = boxprops\n",
    ")    \n",
    "\n",
    "jitter = 0.04\n",
    "x_data = [np.array([i] * len(d)) for i, d in enumerate(y_data)]\n",
    "x_jittered = [x + st.t(df=6, scale=jitter).rvs(len(x)) for x in x_data]\n",
    "COLOR_SCALE = [\"#1B9E77\", \"#D95F02\"]\n",
    "for x, y, color in zip(x_jittered, y_data, COLOR_SCALE):\n",
    "    plt.scatter(x, y, s=40, alpha=0.3, color=color)\n",
    "\n",
    "ax.set_xlabel('')\n",
    "ax.set_ylabel(r'Wing area ($mm^{2}$)', fontsize = 11)\n",
    "ax.grid(axis='y', linestyle='--', alpha=0.7)\n",
    "ax.spines['top'].set_visible(False)\n",
    "ax.spines['right'].set_visible(False)\n",
    "ax.set_xticklabels(x_label, rotation=60)\n",
    "ax.set_title('Male')\n",
    "#plt.savefig('Figure.svg', format='svg')"
   ]
  },
  {
   "cell_type": "code",
   "execution_count": 4,
   "metadata": {},
   "outputs": [
    {
     "name": "stdout",
     "output_type": "stream",
     "text": [
      "         Comparison  Mean Difference  t-statistic   p-value  Effect Size  \\\n",
      "0  control-pzo:FLAG             0.42     5.992661  0.000002         1.68   \n",
      "\n",
      "   95% CI Lower  95% CI Upper  F-statistic  F-test p-value  \n",
      "0          0.33          0.52     3.631522        0.056695  \n"
     ]
    }
   ],
   "source": [
    "import pandas as pd\n",
    "from scipy import stats\n",
    "import numpy as np\n",
    "\n",
    "a = data=df[[\"control\"]].values\n",
    "a = a[~np.isnan(a)].tolist()\n",
    "b = data=df[[\"pzo\"]].values\n",
    "b = b[~np.isnan(b)].tolist()\n",
    "\n",
    "table_data = {'Comparison': [], 'Mean Difference': [], 't-statistic': [], 'p-value': [],\n",
    "              'Effect Size': [], '95% CI Lower': [], '95% CI Upper': [],\n",
    "              'F-statistic': [], 'F-test p-value': []}\n",
    "\n",
    "comparisons = [('control-pzo:FLAG', a, b)]\n",
    "\n",
    "for comparison, group1, group2 in comparisons:\n",
    "    t_stat, p_value = stats.ttest_ind(group1, group2)\n",
    "    f_stat, f_p_value = stats.bartlett(group1, group2)\n",
    "    mean_diff = round(abs(np.mean(group1) - np.mean(group2)), 2)\n",
    "    effect_size = round(mean_diff / np.std(group1 + group2), 2)\n",
    "    ci = stats.t.interval(0.95, len(group1) + len(group2) - 2, loc=np.mean(group1) - np.mean(group2), scale=stats.sem(group1 + group2))\n",
    "    table_data['Comparison'].append(comparison)\n",
    "    table_data['Mean Difference'].append(mean_diff)\n",
    "    table_data['t-statistic'].append(t_stat)\n",
    "    table_data['p-value'].append(p_value)\n",
    "    table_data['Effect Size'].append(effect_size)\n",
    "    table_data['95% CI Lower'].append(round(ci[0], 2))\n",
    "    table_data['95% CI Upper'].append(round(ci[1], 2))    \n",
    "    table_data['F-statistic'].append(f_stat)\n",
    "    table_data['F-test p-value'].append(f_p_value)\n",
    "\n",
    "result_table = pd.DataFrame(table_data)\n",
    "print(result_table)"
   ]
  }
 ],
 "metadata": {
  "kernelspec": {
   "display_name": "Python 3",
   "language": "python",
   "name": "python3"
  },
  "language_info": {
   "codemirror_mode": {
    "name": "ipython",
    "version": 3
   },
   "file_extension": ".py",
   "mimetype": "text/x-python",
   "name": "python",
   "nbconvert_exporter": "python",
   "pygments_lexer": "ipython3",
   "version": "3.6.5"
  }
 },
 "nbformat": 4,
 "nbformat_minor": 2
}
